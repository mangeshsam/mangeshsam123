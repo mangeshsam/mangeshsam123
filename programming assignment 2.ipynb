{
 "cells": [
  {
   "cell_type": "code",
   "execution_count": null,
   "id": "32603e35",
   "metadata": {},
   "outputs": [],
   "source": [
    "1. Write a Python program to convert kilometers to miles?"
   ]
  },
  {
   "cell_type": "code",
   "execution_count": 2,
   "id": "b0c9d817",
   "metadata": {},
   "outputs": [
    {
     "name": "stdout",
     "output_type": "stream",
     "text": [
      "Enter value of kilometer: 3.5\n",
      "kilometer is equal to: 2.1747985\n"
     ]
    }
   ],
   "source": [
    "kilometer = float(input(\"Enter value of kilometer: \"))\n",
    "conv_fact = 0.621371\n",
    "mile = kilometer * conv_fact\n",
    "print(f\"kilometer is equal to: {mile}\")"
   ]
  },
  {
   "cell_type": "code",
   "execution_count": null,
   "id": "3e6a33ab",
   "metadata": {},
   "outputs": [],
   "source": [
    "2. Write a Python program to convert Celsius to Fahrenheit?"
   ]
  },
  {
   "cell_type": "code",
   "execution_count": 3,
   "id": "ffc24b37",
   "metadata": {},
   "outputs": [
    {
     "name": "stdout",
     "output_type": "stream",
     "text": [
      "enter the celsius: 37.5\n",
      "convert celsius to fahrenheit: 99.5\n"
     ]
    }
   ],
   "source": [
    "celsius = float(input(\"enter the celsius: \"))\n",
    "fahrenheit = celsius * 1.8 + 32\n",
    "print(f\"convert celsius to fahrenheit: {fahrenheit}\")"
   ]
  },
  {
   "cell_type": "code",
   "execution_count": null,
   "id": "5c0c2cee",
   "metadata": {},
   "outputs": [],
   "source": [
    "3. Write a Python program to display calendar?"
   ]
  },
  {
   "cell_type": "code",
   "execution_count": 5,
   "id": "0d02c0aa",
   "metadata": {},
   "outputs": [
    {
     "name": "stdout",
     "output_type": "stream",
     "text": [
      "enter year: 2023\n",
      "enter month: 2\n",
      "   February 2023\n",
      "Mo Tu We Th Fr Sa Su\n",
      "       1  2  3  4  5\n",
      " 6  7  8  9 10 11 12\n",
      "13 14 15 16 17 18 19\n",
      "20 21 22 23 24 25 26\n",
      "27 28\n",
      "\n"
     ]
    }
   ],
   "source": [
    "import calendar\n",
    "yy=int(input(\"enter year: \"))\n",
    "mm=int(input(\"enter month: \"))\n",
    "print(calendar.month(yy,mm))"
   ]
  },
  {
   "cell_type": "code",
   "execution_count": null,
   "id": "1f3d7fc9",
   "metadata": {},
   "outputs": [],
   "source": [
    "4. Write a Python program to solve quadratic equation?"
   ]
  },
  {
   "cell_type": "code",
   "execution_count": 5,
   "id": "813ad72b",
   "metadata": {},
   "outputs": [
    {
     "name": "stdout",
     "output_type": "stream",
     "text": [
      "enter a: 2\n",
      "enter b: 3\n",
      "enter c: 4\n",
      "quadratic equcation of + and - are: (-0.75+1.1989578808281798j) and (-0.75-1.1989578808281798j)\n"
     ]
    }
   ],
   "source": [
    "import cmath\n",
    "a = int(input(\"enter a: \"))\n",
    "b = int(input(\"enter b: \"))\n",
    "c = int(input(\"enter c: \"))\n",
    "d= b**2-4*a*c\n",
    "sol1 = (-b +cmath.sqrt(d))/(2*a)\n",
    "sol2 = (-b -cmath.sqrt(d))/(2*a)\n",
    "print(f\"quadratic equcation of + and - are: {sol1} and {sol2}\")"
   ]
  },
  {
   "cell_type": "code",
   "execution_count": null,
   "id": "f4419491",
   "metadata": {},
   "outputs": [],
   "source": [
    "5. Write a Python program to swap two variables without temp variable?"
   ]
  },
  {
   "cell_type": "code",
   "execution_count": 7,
   "id": "388878dc",
   "metadata": {},
   "outputs": [
    {
     "name": "stdout",
     "output_type": "stream",
     "text": [
      "Enter value of x: 2\n",
      "Enter value of y: 3\n",
      "without swap of two variables x : 3, and variables y :2 \n"
     ]
    }
   ],
   "source": [
    "x= int(input(\"Enter value of x: \"))\n",
    "y= int(input(\"Enter value of y: \"))\n",
    "x,y=y,x\n",
    "print(f\"without swap of two variables x : {x}, and variables y :{y} \")"
   ]
  },
  {
   "cell_type": "code",
   "execution_count": null,
   "id": "c23b1142",
   "metadata": {},
   "outputs": [],
   "source": []
  }
 ],
 "metadata": {
  "kernelspec": {
   "display_name": "Python 3 (ipykernel)",
   "language": "python",
   "name": "python3"
  },
  "language_info": {
   "codemirror_mode": {
    "name": "ipython",
    "version": 3
   },
   "file_extension": ".py",
   "mimetype": "text/x-python",
   "name": "python",
   "nbconvert_exporter": "python",
   "pygments_lexer": "ipython3",
   "version": "3.9.13"
  }
 },
 "nbformat": 4,
 "nbformat_minor": 5
}

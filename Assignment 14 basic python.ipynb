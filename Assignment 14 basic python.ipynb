{
 "cells": [
  {
   "cell_type": "code",
   "execution_count": null,
   "id": "869b8676",
   "metadata": {},
   "outputs": [],
   "source": [
    "1. What does RGBA stand for?"
   ]
  },
  {
   "cell_type": "code",
   "execution_count": null,
   "id": "4b4867f1",
   "metadata": {},
   "outputs": [],
   "source": [
    "Ans:= RGBA color values are an extension of RGB color values with an alpha channel - which specifies the opacity for a color. An RGBA color value is specified with: rgba(red, green, blue, alpha)."
   ]
  },
  {
   "cell_type": "code",
   "execution_count": null,
   "id": "95b444d3",
   "metadata": {},
   "outputs": [],
   "source": [
    "2. From the Pillow module, how do you get the RGBA value of any images?"
   ]
  },
  {
   "cell_type": "code",
   "execution_count": null,
   "id": "4f6c14ae",
   "metadata": {},
   "outputs": [],
   "source": [
    "ans:= A function call to ImageColor.getcolor('CornflowerBlue', 'RGBA') will return (100, 149, 237, 255), the RGBA value for that color."
   ]
  },
  {
   "cell_type": "code",
   "execution_count": null,
   "id": "53926bd0",
   "metadata": {},
   "outputs": [],
   "source": [
    "3. What is a box tuple, and how does it work?"
   ]
  },
  {
   "cell_type": "code",
   "execution_count": null,
   "id": "34a82cba",
   "metadata": {},
   "outputs": [],
   "source": [
    "ans:= A box tuple is a tuple value of four integers: the left-edge x-coordinate, the top-edge y-coordinate, the width, and the height, respectively."
   ]
  },
  {
   "cell_type": "code",
   "execution_count": null,
   "id": "dd4ed51f",
   "metadata": {},
   "outputs": [],
   "source": [
    "4. Use your image and load in notebook then, How can you find out the width and height of an\n",
    "Image object?"
   ]
  },
  {
   "cell_type": "code",
   "execution_count": null,
   "id": "748e3196",
   "metadata": {},
   "outputs": [],
   "source": [
    "ans:= img.size is a tuple of two integers, the width and the height.\n",
    "    from PIL import Image\n",
    "    img = Image.open('image.jpg')\n",
    "    img"
   ]
  },
  {
   "cell_type": "code",
   "execution_count": null,
   "id": "658835b9",
   "metadata": {},
   "outputs": [],
   "source": [
    "img.size"
   ]
  },
  {
   "cell_type": "code",
   "execution_count": null,
   "id": "f7005720",
   "metadata": {},
   "outputs": [],
   "source": [
    "5. What method would you call to get Image object for a 100×100 image, excluding the lower-left\n",
    "quarter of it?"
   ]
  },
  {
   "cell_type": "code",
   "execution_count": null,
   "id": "71397824",
   "metadata": {},
   "outputs": [],
   "source": [
    "ans:= img.crop((0, 50, 50, 50)) \n",
    "    Notice that you are passing a box tuple to crop(), not four separate integer arguments."
   ]
  },
  {
   "cell_type": "code",
   "execution_count": null,
   "id": "24494ee6",
   "metadata": {},
   "outputs": [],
   "source": [
    "6. After making changes to an Image object, how could you save it as an image file?"
   ]
  },
  {
   "cell_type": "code",
   "execution_count": null,
   "id": "1a69701a",
   "metadata": {},
   "outputs": [],
   "source": [
    "ans:= Call the img.save('newimg.jpg') method of the Image object.\n",
    "    img.crop((0, 50, 50, 50))\n",
    "    img.save('newimg.jpg')\n",
    "    img"
   ]
  },
  {
   "cell_type": "code",
   "execution_count": null,
   "id": "c6f66ad1",
   "metadata": {},
   "outputs": [],
   "source": [
    "7. What module contains Pillow’s shape-drawing code?"
   ]
  },
  {
   "cell_type": "code",
   "execution_count": null,
   "id": "dd02aca3",
   "metadata": {},
   "outputs": [],
   "source": [
    "ans:= The ImageDraw module contains code to draw on images."
   ]
  },
  {
   "cell_type": "code",
   "execution_count": null,
   "id": "1032f379",
   "metadata": {},
   "outputs": [],
   "source": [
    "8. Image objects do not have drawing methods. What kind of object does? How do you get this kind\n",
    "of object?"
   ]
  },
  {
   "cell_type": "code",
   "execution_count": null,
   "id": "94fb25fd",
   "metadata": {},
   "outputs": [],
   "source": [
    "ans:= ImageDraw objects have shape-drawing methods such as point(), line(), or rectangle(). They are returned by passing the Image object to the ImageDraw.Draw() function."
   ]
  },
  {
   "cell_type": "code",
   "execution_count": null,
   "id": "2ae755d6",
   "metadata": {},
   "outputs": [],
   "source": []
  }
 ],
 "metadata": {
  "kernelspec": {
   "display_name": "Python 3 (ipykernel)",
   "language": "python",
   "name": "python3"
  },
  "language_info": {
   "codemirror_mode": {
    "name": "ipython",
    "version": 3
   },
   "file_extension": ".py",
   "mimetype": "text/x-python",
   "name": "python",
   "nbconvert_exporter": "python",
   "pygments_lexer": "ipython3",
   "version": "3.9.13"
  }
 },
 "nbformat": 4,
 "nbformat_minor": 5
}

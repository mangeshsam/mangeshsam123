{
 "cells": [
  {
   "cell_type": "code",
   "execution_count": null,
   "id": "cca924c9",
   "metadata": {},
   "outputs": [],
   "source": [
    "1. What advantages do Excel spreadsheets have over CSV spreadsheets?"
   ]
  },
  {
   "cell_type": "code",
   "execution_count": null,
   "id": "6bec3f49",
   "metadata": {},
   "outputs": [],
   "source": [
    "Ans:= Excel is superior to the CSV file format; thus, CSV consumes less file size when the user is importing data; it is a much faster format compared to Excel. CSV does not manipulate data and stores it as-is. Excel also allows the user the add-in feature."
   ]
  },
  {
   "cell_type": "code",
   "execution_count": null,
   "id": "a3aaf225",
   "metadata": {},
   "outputs": [],
   "source": [
    "2.What do you pass to csv.reader() and csv.writer() to create reader and writer objects?"
   ]
  },
  {
   "cell_type": "code",
   "execution_count": null,
   "id": "ab9dd981",
   "metadata": {},
   "outputs": [],
   "source": [
    "Ans:= This will create the object you can then pass to csv. writer(), to create a Writer object. On Windows, you'll also need to pass a blank string for the open() function's newline keyword argument."
   ]
  },
  {
   "cell_type": "code",
   "execution_count": null,
   "id": "853d0dac",
   "metadata": {},
   "outputs": [],
   "source": [
    "3. What modes do File objects for reader and writer objects need to be opened in?"
   ]
  },
  {
   "cell_type": "code",
   "execution_count": null,
   "id": "219c13d2",
   "metadata": {},
   "outputs": [],
   "source": [
    "Ans:= You’ll need to pass both a filename and a special character that tells Python we intend to write to the file.\n",
    "\n",
    "Add the following code to write.py. We’ll tell Python to look for a file named “sample.txt” and overwrite its contents with a new message.\n",
    "The filename points to the path of the file on your computer, while the file opening mode is used to tell the open() function how we plan to interact with the file."
   ]
  },
  {
   "cell_type": "code",
   "execution_count": null,
   "id": "876037b4",
   "metadata": {},
   "outputs": [],
   "source": [
    "4. What method takes a list argument and writes it to a CSV file?"
   ]
  },
  {
   "cell_type": "code",
   "execution_count": null,
   "id": "19473bd7",
   "metadata": {},
   "outputs": [],
   "source": [
    "Ans:= We can convert a list to CSV in python easily by importing an in-built CSV module in python. In this method, we use file handling in python to read the data of a list and then write it into a CSV file.\n",
    "\n",
    "Let's take an example to understand this better."
   ]
  },
  {
   "cell_type": "code",
   "execution_count": null,
   "id": "12b04764",
   "metadata": {},
   "outputs": [],
   "source": [
    "5. What do the keyword arguments delimiter and line terminator do?"
   ]
  },
  {
   "cell_type": "code",
   "execution_count": null,
   "id": "c00ae14b",
   "metadata": {},
   "outputs": [],
   "source": [
    "ans:=This changes the delimiter and line terminator characters in your file. The delimiter is the character that appears between cells on a row. By default, the delimiter for a CSV file is a comma. The line terminator is the character that comes at the end of a row."
   ]
  },
  {
   "cell_type": "code",
   "execution_count": null,
   "id": "5229efba",
   "metadata": {},
   "outputs": [],
   "source": [
    "6. What function takes a string of JSON data and returns a Python data structure?"
   ]
  },
  {
   "cell_type": "code",
   "execution_count": null,
   "id": "d1cf52ec",
   "metadata": {},
   "outputs": [],
   "source": [
    "ans:= We use the json. loads() method to parse a JSON string and return a Python object such as a dictionary. The json. loads() method takes the file contents as a string."
   ]
  },
  {
   "cell_type": "code",
   "execution_count": null,
   "id": "d5a74989",
   "metadata": {},
   "outputs": [],
   "source": [
    "7. What function takes a Python data structure and returns a string of JSON data?"
   ]
  },
  {
   "cell_type": "code",
   "execution_count": null,
   "id": "13d499bf",
   "metadata": {},
   "outputs": [],
   "source": [
    "ans:= If you have a Python object, you can convert it into a JSON string by using the json.dumps() method."
   ]
  }
 ],
 "metadata": {
  "kernelspec": {
   "display_name": "Python 3 (ipykernel)",
   "language": "python",
   "name": "python3"
  },
  "language_info": {
   "codemirror_mode": {
    "name": "ipython",
    "version": 3
   },
   "file_extension": ".py",
   "mimetype": "text/x-python",
   "name": "python",
   "nbconvert_exporter": "python",
   "pygments_lexer": "ipython3",
   "version": "3.9.13"
  }
 },
 "nbformat": 4,
 "nbformat_minor": 5
}

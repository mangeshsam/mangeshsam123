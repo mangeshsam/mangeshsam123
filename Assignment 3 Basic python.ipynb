{
 "cells": [
  {
   "cell_type": "code",
   "execution_count": null,
   "id": "7f5b7432",
   "metadata": {},
   "outputs": [],
   "source": [
    "1. Why are functions advantageous to have in your programs?\n",
    "Ans:= Functions reduce the need for duplicate code. This make programs shorter, easier to read, and easier to update."
   ]
  },
  {
   "cell_type": "code",
   "execution_count": null,
   "id": "2a54b88f",
   "metadata": {},
   "outputs": [],
   "source": [
    "2. When does the code in a function run: when it's specified or when it's called?\n",
    "    Ans:= The code in a function executes when the funcion is called, not when the function is defined."
   ]
  },
  {
   "cell_type": "code",
   "execution_count": null,
   "id": "219312a7",
   "metadata": {},
   "outputs": [],
   "source": [
    "3. What statement creates a function?\n",
    "Ans:= The def statement defines a function (that is, creates)"
   ]
  },
  {
   "cell_type": "code",
   "execution_count": null,
   "id": "37581171",
   "metadata": {},
   "outputs": [],
   "source": [
    "4. What is the difference between a function and a function call?\n",
    "Ans:= A function onsists of hedef statement and code in is def clause.\n",
    "    A function call is what moves the program execution into the funtion, and the function call evaluates to the funcion's return value."
   ]
  },
  {
   "cell_type": "code",
   "execution_count": null,
   "id": "8f063cdf",
   "metadata": {},
   "outputs": [],
   "source": [
    "5. How many global scopes are there in a Python program? How many local scopes?\n",
    "Ans:= There is one global scope, and a local scope is created whenever is called."
   ]
  },
  {
   "cell_type": "code",
   "execution_count": null,
   "id": "93e6e9de",
   "metadata": {},
   "outputs": [],
   "source": [
    "6. What happens to variables in a local scope when the function call returns?\n",
    "Ans := When a function returns, the local scope is destroyed, and all the variables in it are forgotten.\n"
   ]
  },
  {
   "cell_type": "code",
   "execution_count": null,
   "id": "d95e12c5",
   "metadata": {},
   "outputs": [],
   "source": [
    "7. What is the concept of a return value? Is it possible to have a return value in an expression?\n",
    "Ans:= A return value is the value that a function call evaluates to. Like any value, a return value can be used as part of an expression."
   ]
  },
  {
   "cell_type": "code",
   "execution_count": null,
   "id": "3f25bf4d",
   "metadata": {},
   "outputs": [],
   "source": [
    "8. If a function does not have a return statement, what is the return value of a call to that function?\n",
    "Ans:= If there is no return statement for a function, its return value is none."
   ]
  },
  {
   "cell_type": "code",
   "execution_count": null,
   "id": "07e7a1e6",
   "metadata": {},
   "outputs": [],
   "source": [
    "9. How do you make a function variable refer to the global variable?\n",
    "Ans:= A global statement will force a variable in a function to refer to the global variable."
   ]
  },
  {
   "cell_type": "code",
   "execution_count": null,
   "id": "18c3c7d6",
   "metadata": {},
   "outputs": [],
   "source": [
    "10. What is the data type of None?\n",
    "Ans:= The data type of None is NoneType"
   ]
  },
  {
   "cell_type": "code",
   "execution_count": null,
   "id": "10e9311c",
   "metadata": {},
   "outputs": [],
   "source": [
    "11. What does the sentence import areallyourpetsnamederic do?\n",
    "Ans:= That import statement imports a module named  are all uour petsnamederic. (this isn't a real python module, by the way)"
   ]
  },
  {
   "cell_type": "code",
   "execution_count": null,
   "id": "b8d04074",
   "metadata": {},
   "outputs": [],
   "source": [
    "12. If you had a bacon() feature in a spam module, what would you call it after importing spam?\n",
    "Ans:= This function can be calledwith spam.bacon()"
   ]
  },
  {
   "cell_type": "code",
   "execution_count": null,
   "id": "e591a1d7",
   "metadata": {},
   "outputs": [],
   "source": [
    "13. What can you do to save a programme from crashing if it encounters an error?\n",
    "Ans:= Place the line of code that might cause an error in a try clause."
   ]
  },
  {
   "cell_type": "code",
   "execution_count": null,
   "id": "812a6014",
   "metadata": {},
   "outputs": [],
   "source": [
    "14. What is the purpose of the try clause? What is the purpose of the except clause?\n",
    "Ans:= The code that could potentially cause an error goes in the try clause.\n",
    "    The code that executes if an error happens goes in the except clause."
   ]
  },
  {
   "cell_type": "code",
   "execution_count": null,
   "id": "c19319ee",
   "metadata": {},
   "outputs": [],
   "source": []
  }
 ],
 "metadata": {
  "kernelspec": {
   "display_name": "Python 3 (ipykernel)",
   "language": "python",
   "name": "python3"
  },
  "language_info": {
   "codemirror_mode": {
    "name": "ipython",
    "version": 3
   },
   "file_extension": ".py",
   "mimetype": "text/x-python",
   "name": "python",
   "nbconvert_exporter": "python",
   "pygments_lexer": "ipython3",
   "version": "3.9.13"
  }
 },
 "nbformat": 4,
 "nbformat_minor": 5
}

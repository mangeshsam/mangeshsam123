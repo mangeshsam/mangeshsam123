{
 "cells": [
  {
   "cell_type": "code",
   "execution_count": null,
   "id": "5dd310c7",
   "metadata": {},
   "outputs": [],
   "source": [
    "# 1. In the below elements which of them are values or an expression? eg:- values can be integer or string and expressions will be mathematical operators"
   ]
  },
  {
   "cell_type": "code",
   "execution_count": 9,
   "id": "0d04b9fa",
   "metadata": {},
   "outputs": [
    {
     "name": "stdout",
     "output_type": "stream",
     "text": [
      "C is: 200\n",
      "200\n",
      "Result\n"
     ]
    }
   ],
   "source": [
    " * this is use for mulitplication, product of two value A and B (intiger type).\n",
    "\n",
    "A=10\n",
    "B=20\n",
    "C=(A*B)\n",
    "print(f\"C is: {C}\")\n",
    "\n",
    "print(10*20)\n",
    "print(\"Result\")"
   ]
  },
  {
   "cell_type": "code",
   "execution_count": 2,
   "id": "fc122e4b",
   "metadata": {},
   "outputs": [
    {
     "name": "stdout",
     "output_type": "stream",
     "text": [
      "hello\n"
     ]
    }
   ],
   "source": [
    "A = \"hello\" # this is use for string type\n",
    "print(A)"
   ]
  },
  {
   "cell_type": "code",
   "execution_count": 5,
   "id": "e04225b6",
   "metadata": {},
   "outputs": [
    {
     "name": "stdout",
     "output_type": "stream",
     "text": [
      "\n",
      " 'hello'\n"
     ]
    }
   ],
   "source": [
    "print(\"\\n 'hello'\") # another type of print hello"
   ]
  },
  {
   "cell_type": "code",
   "execution_count": 6,
   "id": "4db4b8e3",
   "metadata": {},
   "outputs": [
    {
     "name": "stdout",
     "output_type": "stream",
     "text": [
      "<class 'float'>\n"
     ]
    }
   ],
   "source": [
    "A= type(-87.8) this is a float in type \n",
    "print(A)"
   ]
  },
  {
   "cell_type": "code",
   "execution_count": 7,
   "id": "c2e1a073",
   "metadata": {},
   "outputs": [
    {
     "name": "stdout",
     "output_type": "stream",
     "text": [
      "3\n",
      "Result\n"
     ]
    }
   ],
   "source": [
    "print(23 - 20) # this is use for substraction.\n",
    "print(\"Result\")"
   ]
  },
  {
   "cell_type": "code",
   "execution_count": 10,
   "id": "48691a0f",
   "metadata": {},
   "outputs": [
    {
     "name": "stdout",
     "output_type": "stream",
     "text": [
      "4.0\n",
      "Result\n"
     ]
    }
   ],
   "source": [
    "print(20/5) # this is use for divison of two values\n",
    "print(\"Result\")"
   ]
  },
  {
   "cell_type": "code",
   "execution_count": 11,
   "id": "012ec6ad",
   "metadata": {
    "scrolled": true
   },
   "outputs": [
    {
     "name": "stdout",
     "output_type": "stream",
     "text": [
      "80\n",
      "Result\n"
     ]
    }
   ],
   "source": [
    "print(30+50) # this is use for addition of two values.\n",
    "print(\"Result\")"
   ]
  },
  {
   "cell_type": "code",
   "execution_count": 13,
   "id": "ab965b92",
   "metadata": {},
   "outputs": [
    {
     "name": "stdout",
     "output_type": "stream",
     "text": [
      "<class 'int'>\n"
     ]
    }
   ],
   "source": [
    "# this is a intiger type \n",
    "A = type(6)\n",
    "print(A)"
   ]
  },
  {
   "cell_type": "code",
   "execution_count": null,
   "id": "996aabfd",
   "metadata": {},
   "outputs": [],
   "source": [
    "2. What is the difference between string and variable?"
   ]
  },
  {
   "cell_type": "code",
   "execution_count": null,
   "id": "44f1b27d",
   "metadata": {},
   "outputs": [],
   "source": [
    "1) string :-  string are the data, we can use for fill up the variable. declaring strings as variables can make it easir for us to work with strings throughout over python program."
   ]
  },
  {
   "cell_type": "code",
   "execution_count": null,
   "id": "0f30065f",
   "metadata": {},
   "outputs": [],
   "source": [
    "2) variables:- variables are symbols that you can use to store data in program. You can think of them as an empty box that you fill with some data or value."
   ]
  },
  {
   "cell_type": "code",
   "execution_count": null,
   "id": "7a8082b3",
   "metadata": {},
   "outputs": [],
   "source": [
    "3. Describe three different data types."
   ]
  },
  {
   "cell_type": "code",
   "execution_count": null,
   "id": "2374b0c2",
   "metadata": {},
   "outputs": [],
   "source": [
    "3. Describe three different data types.\n",
    "\n",
    "Ans:- python data type used to define the type of a variable.\n",
    "It defined what type of data we are going to store in a variable. The data stored in memory can be of many type.\n",
    "The three data type are.\n",
    "1) Numeric = int, float, complex\n",
    "2) string = str\n",
    "3) Binary = bytes\n",
    "4) Boolean = bool\n",
    "5) set = set"
   ]
  },
  {
   "cell_type": "code",
   "execution_count": null,
   "id": "006f8364",
   "metadata": {},
   "outputs": [],
   "source": [
    "4) What is an expression made up of? What do all expressions do?\n",
    "\n",
    "Ans:- An expression is a  combination of values and operators. All expression evaluate to a single value."
   ]
  },
  {
   "cell_type": "code",
   "execution_count": null,
   "id": "df9d0d49",
   "metadata": {},
   "outputs": [],
   "source": [
    "5)This assignment statements, like spam = 10. What is the difference between an expression and a statement?\n",
    "Ans:- An expression evaluates to a single value. A statement does not evaluates tosingle value."
   ]
  },
  {
   "cell_type": "code",
   "execution_count": null,
   "id": "51e1a8aa",
   "metadata": {},
   "outputs": [],
   "source": [
    "6. After running the following code, what does the variable bacon contain?\n",
    "bacon = 22\n",
    "bacon + 1\n",
    "\n",
    "Ans:= The bacon variable is set to 20. The bacon +1 expression does not reassign the value in bacon\n",
    "    That would need to an assignment statement: bacon = bacon + 1"
   ]
  },
  {
   "cell_type": "code",
   "execution_count": null,
   "id": "6d5b1192",
   "metadata": {},
   "outputs": [],
   "source": [
    "7) What should the values of the following two terms be?\n",
    "'spam' + 'spamspam'\n",
    "'spam' * 3\n",
    "\n",
    "Ans:- Both expressions evaluate to string 'spamspamspam'"
   ]
  },
  {
   "cell_type": "code",
   "execution_count": null,
   "id": "e4159c98",
   "metadata": {},
   "outputs": [],
   "source": [
    "8) Why is eggs a valid variable name while 100 is invalid?\n",
    "\n",
    "Ans:- Variable names cannot begin with a number."
   ]
  },
  {
   "cell_type": "code",
   "execution_count": null,
   "id": "fbffeaa0",
   "metadata": {},
   "outputs": [],
   "source": [
    "9) . What three functions can be used to get the integer, floating-point number, or string version of a value?\n",
    "\n",
    "Ans:- The int(), and str(), functions will evaluate to the integer, floating-point number, and string version ofthe values passed to them"
   ]
  },
  {
   "cell_type": "code",
   "execution_count": null,
   "id": "fdc47bc3",
   "metadata": {},
   "outputs": [],
   "source": [
    "10) Why does this expression cause an error? How can you fix it?\n",
    "'I have eaten ' + 99 + ' burritos.'\n",
    "\n",
    "Ans:- The expression causes an error because 99 is an integer , and only string can be concatenated to otherstirngs with the + operator. \n",
    "    the correct wway is i habe enter '+str(99)+' burritos.'"
   ]
  }
 ],
 "metadata": {
  "kernelspec": {
   "display_name": "Python 3 (ipykernel)",
   "language": "python",
   "name": "python3"
  },
  "language_info": {
   "codemirror_mode": {
    "name": "ipython",
    "version": 3
   },
   "file_extension": ".py",
   "mimetype": "text/x-python",
   "name": "python",
   "nbconvert_exporter": "python",
   "pygments_lexer": "ipython3",
   "version": "3.9.13"
  }
 },
 "nbformat": 4,
 "nbformat_minor": 5
}

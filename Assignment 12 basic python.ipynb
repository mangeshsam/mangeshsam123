{
 "cells": [
  {
   "cell_type": "code",
   "execution_count": null,
   "id": "d5d0341b",
   "metadata": {},
   "outputs": [],
   "source": [
    "1. In what modes should the PdfFileReader() and PdfFileWriter() File objects will be opened?"
   ]
  },
  {
   "cell_type": "code",
   "execution_count": null,
   "id": "28336582",
   "metadata": {},
   "outputs": [],
   "source": [
    "#ans:=\n",
    "Read-binary ('rb') for PdfFileReader() and write-binary ('wb') for PdfFileWriter()"
   ]
  },
  {
   "cell_type": "code",
   "execution_count": null,
   "id": "b9576424",
   "metadata": {},
   "outputs": [],
   "source": [
    "2. From a PdfFileReader object, how do you get a Page object for page 5?"
   ]
  },
  {
   "cell_type": "code",
   "execution_count": null,
   "id": "ce0082ee",
   "metadata": {},
   "outputs": [],
   "source": [
    "#ans\n",
    "Calling getPage(4) will return a Page object for About this Book, since page 0 is the first page."
   ]
  },
  {
   "cell_type": "code",
   "execution_count": null,
   "id": "ba8d7f9f",
   "metadata": {},
   "outputs": [],
   "source": [
    "3. What PdfFileReader variable stores the number of pages in the PDF document?"
   ]
  },
  {
   "cell_type": "code",
   "execution_count": null,
   "id": "6959125f",
   "metadata": {},
   "outputs": [],
   "source": [
    "# Ans:=\n",
    "The numPages variable stores an integer of the num"
   ]
  },
  {
   "cell_type": "code",
   "execution_count": null,
   "id": "71738508",
   "metadata": {},
   "outputs": [],
   "source": [
    "4. If a PdfFileReader object’s PDF is encrypted with the password swordfish, what must you do\n",
    "before you can obtain Page objects from it?"
   ]
  },
  {
   "cell_type": "code",
   "execution_count": null,
   "id": "1e327a62",
   "metadata": {},
   "outputs": [],
   "source": [
    "#ans:= \n",
    "call decrypt(\"swordfish\")"
   ]
  },
  {
   "cell_type": "code",
   "execution_count": null,
   "id": "74294fd9",
   "metadata": {},
   "outputs": [],
   "source": [
    "5. What methods do you use to rotate a page?"
   ]
  },
  {
   "cell_type": "code",
   "execution_count": null,
   "id": "fb41f1f7",
   "metadata": {},
   "outputs": [],
   "source": [
    "# ans:= \n",
    "anticlockwise or clockwise rotation displayed in the page thumbnail view."
   ]
  },
  {
   "cell_type": "code",
   "execution_count": null,
   "id": "33add116",
   "metadata": {},
   "outputs": [],
   "source": [
    "6. What is the difference between a Run object and a Paragraph object?"
   ]
  },
  {
   "cell_type": "code",
   "execution_count": null,
   "id": "676d740b",
   "metadata": {},
   "outputs": [],
   "source": [
    "#ans:=\n",
    "A document contains multiple paragraphs. A paragraph begins on a new line and contains multiple runs. Runs are contiguous groups of characters within the a paragraph."
   ]
  },
  {
   "cell_type": "code",
   "execution_count": null,
   "id": "6d917c75",
   "metadata": {},
   "outputs": [],
   "source": [
    "7. How do you obtain a list of Paragraph objects for a Document object that’s stored in a variable\n",
    "named doc?"
   ]
  },
  {
   "cell_type": "code",
   "execution_count": null,
   "id": "453158e8",
   "metadata": {},
   "outputs": [],
   "source": [
    "# ans:=\n",
    "import docx\n",
    "doc = docx.Document(\"abc.docx\")\n",
    "doc.paragraphs"
   ]
  },
  {
   "cell_type": "code",
   "execution_count": null,
   "id": "d5dc88b4",
   "metadata": {},
   "outputs": [],
   "source": [
    "8. What type of object has bold, underline, italic, strike, and outline variables?"
   ]
  },
  {
   "cell_type": "code",
   "execution_count": null,
   "id": "2e677c7d",
   "metadata": {},
   "outputs": [],
   "source": [
    "#ans:= \n",
    "Run object has bold, underline, italic, strike, and outline variables."
   ]
  },
  {
   "cell_type": "code",
   "execution_count": null,
   "id": "d1c57604",
   "metadata": {},
   "outputs": [],
   "source": [
    "9. What is the difference between False, True, and None for the bold variable?"
   ]
  },
  {
   "cell_type": "code",
   "execution_count": null,
   "id": "b3875f23",
   "metadata": {},
   "outputs": [],
   "source": [
    "# ans:= \n",
    "True and False are specific bool values. Use default False when you have a bool field and you want the default to be False. Don't use False as a value for a non- bool field. None is used as a generic placeholder when the value will be set later."
   ]
  },
  {
   "cell_type": "code",
   "execution_count": null,
   "id": "3259997a",
   "metadata": {},
   "outputs": [],
   "source": [
    "10. How do you create a Document object for a new Word document?"
   ]
  },
  {
   "cell_type": "code",
   "execution_count": null,
   "id": "3b5d5c83",
   "metadata": {},
   "outputs": [],
   "source": [
    "# ans:=\n",
    "In the Object dialog box, click the Create New tab, and then select an option from the Object type list. "
   ]
  },
  {
   "cell_type": "code",
   "execution_count": null,
   "id": "0bc39366",
   "metadata": {},
   "outputs": [],
   "source": [
    "11. How do you add a paragraph with the text &#39;Hello, there!&#39; to a Document object stored in a\n",
    "variable named doc?"
   ]
  },
  {
   "cell_type": "code",
   "execution_count": null,
   "id": "08826040",
   "metadata": {},
   "outputs": [],
   "source": [
    "# ans:= \n",
    "import docx\n",
    "doc = docx.Document()\n",
    "doc.add_paragraph(\"hello there!\")\n",
    "doc.save(\"hellothere.docx\")"
   ]
  },
  {
   "cell_type": "code",
   "execution_count": null,
   "id": "2d1642c6",
   "metadata": {},
   "outputs": [],
   "source": [
    "12. What integers represent the levels of headings available in Word documents?"
   ]
  },
  {
   "cell_type": "code",
   "execution_count": null,
   "id": "b412be93",
   "metadata": {},
   "outputs": [],
   "source": [
    "# ans:= \n",
    "integer from 0 to 4\n",
    "The arguments to add_heading() are a string of the heading text and an integer from 0 to 4. The integer 0 makes the heading the Title style, which is used for the top of the document. Integers 1 to 4 are for various heading levels, with 1 being the main heading and 4 the lowest subheading"
   ]
  }
 ],
 "metadata": {
  "kernelspec": {
   "display_name": "Python 3 (ipykernel)",
   "language": "python",
   "name": "python3"
  },
  "language_info": {
   "codemirror_mode": {
    "name": "ipython",
    "version": 3
   },
   "file_extension": ".py",
   "mimetype": "text/x-python",
   "name": "python",
   "nbconvert_exporter": "python",
   "pygments_lexer": "ipython3",
   "version": "3.9.13"
  }
 },
 "nbformat": 4,
 "nbformat_minor": 5
}

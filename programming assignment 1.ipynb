{
 "cells": [
  {
   "cell_type": "code",
   "execution_count": null,
   "id": "7aa6a527",
   "metadata": {},
   "outputs": [],
   "source": [
    "1. Write a Python program to print \"Hello Python\"?"
   ]
  },
  {
   "cell_type": "code",
   "execution_count": 1,
   "id": "3aa29586",
   "metadata": {},
   "outputs": [
    {
     "name": "stdout",
     "output_type": "stream",
     "text": [
      "Hello python\n"
     ]
    }
   ],
   "source": [
    "a = \"Hello python\"\n",
    "print(a)"
   ]
  },
  {
   "cell_type": "code",
   "execution_count": null,
   "id": "c7f2b28a",
   "metadata": {},
   "outputs": [],
   "source": [
    "2. Write a Python program to do arithmetical operations addition and division.?"
   ]
  },
  {
   "cell_type": "code",
   "execution_count": 4,
   "id": "1e081307",
   "metadata": {},
   "outputs": [
    {
     "name": "stdout",
     "output_type": "stream",
     "text": [
      "25\n",
      "2\n",
      "27\n",
      "12.5\n"
     ]
    }
   ],
   "source": [
    "a = int(input())\n",
    "b = int(input())\n",
    "print(a+b)\n",
    "print(a/b)"
   ]
  },
  {
   "cell_type": "code",
   "execution_count": null,
   "id": "ff4d4da8",
   "metadata": {},
   "outputs": [],
   "source": [
    "3. Write a Python program to find the area of a triangle?"
   ]
  },
  {
   "cell_type": "code",
   "execution_count": 1,
   "id": "c447ee49",
   "metadata": {},
   "outputs": [
    {
     "name": "stdout",
     "output_type": "stream",
     "text": [
      "First side: 12\n",
      "Second side: 12\n",
      "Thired side: 12\n",
      "62.353829072479584\n"
     ]
    }
   ],
   "source": [
    "import numpy as area\n",
    "a=float(input(\"First side: \"))\n",
    "b=float(input(\"Second side: \"))\n",
    "c=float(input(\"Thired side: \"))\n",
    "s=(a+b+c)/2\n",
    "area_of_trangal =area.sqrt(s*(s-a)*(s-b)*(s-c))\n",
    "\n",
    "print(area_of_trangal)\n"
   ]
  },
  {
   "cell_type": "code",
   "execution_count": null,
   "id": "ea4b5fa0",
   "metadata": {},
   "outputs": [],
   "source": [
    "4. Write a Python program to swap two variables?"
   ]
  },
  {
   "cell_type": "code",
   "execution_count": 2,
   "id": "636c4f73",
   "metadata": {},
   "outputs": [
    {
     "name": "stdout",
     "output_type": "stream",
     "text": [
      "x input: 12\n",
      "y input: 2\n",
      "The value of x after swapping:  2\n",
      "The value of y after swapping:  12\n"
     ]
    }
   ],
   "source": [
    "x = int(input(\"x input: \"))\n",
    "y = int(input(\"y input: \"))\n",
    "temp = x\n",
    "x=y\n",
    "y=temp\n",
    "print(\"The value of x after swapping: \",format(x))\n",
    "print(\"The value of y after swapping: \",format(y))"
   ]
  },
  {
   "cell_type": "code",
   "execution_count": null,
   "id": "1f8b0f0d",
   "metadata": {},
   "outputs": [],
   "source": [
    "5. Write a Python program to generate a random number?"
   ]
  },
  {
   "cell_type": "code",
   "execution_count": 10,
   "id": "ca62c3f9",
   "metadata": {},
   "outputs": [
    {
     "name": "stdout",
     "output_type": "stream",
     "text": [
      "8\n"
     ]
    }
   ],
   "source": [
    "import random\n",
    "print(random.randint(0,20))"
   ]
  },
  {
   "cell_type": "code",
   "execution_count": null,
   "id": "3af93e0c",
   "metadata": {},
   "outputs": [],
   "source": []
  },
  {
   "cell_type": "code",
   "execution_count": null,
   "id": "ec732525",
   "metadata": {},
   "outputs": [],
   "source": []
  }
 ],
 "metadata": {
  "kernelspec": {
   "display_name": "Python 3 (ipykernel)",
   "language": "python",
   "name": "python3"
  },
  "language_info": {
   "codemirror_mode": {
    "name": "ipython",
    "version": 3
   },
   "file_extension": ".py",
   "mimetype": "text/x-python",
   "name": "python",
   "nbconvert_exporter": "python",
   "pygments_lexer": "ipython3",
   "version": "3.9.13"
  }
 },
 "nbformat": 4,
 "nbformat_minor": 5
}

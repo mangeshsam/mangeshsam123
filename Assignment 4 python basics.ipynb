{
 "cells": [
  {
   "cell_type": "code",
   "execution_count": null,
   "id": "6e4a1b46",
   "metadata": {},
   "outputs": [],
   "source": [
    "1. What exactly is []?\n",
    "Ans:= This is list value, which is a list value that contains no items. This is similar to how\"is the empty string value."
   ]
  },
  {
   "cell_type": "code",
   "execution_count": null,
   "id": "e8c5dadb",
   "metadata": {},
   "outputs": [],
   "source": [
    "2. In a list of values stored in a variable called spam, how would you assign the value 'hello' as the third value? (Assume [2, 4, 6, 8, 10] are in spam.)\n",
    "Let's pretend the spam includes the list ['a', 'b', 'c', 'd'] for the next three queries.\n",
    "\n",
    "Ans:= spam[2] = ' hello' (notice that the third value in a list is at index 2 because the first index is 0)"
   ]
  },
  {
   "cell_type": "code",
   "execution_count": null,
   "id": "8e6e6ee0",
   "metadata": {},
   "outputs": [],
   "source": [
    "3. What is the value of spam[int(int('3' * 2) / 11)]?\n",
    "Ans:= \n",
    "    'd' (note that '3'*c is the string '33', which is passed to int() before being divided by 11. This eventually evaluates to 3. Expressions can be used wherever value are used)"
   ]
  },
  {
   "cell_type": "code",
   "execution_count": null,
   "id": "d0132c9f",
   "metadata": {},
   "outputs": [],
   "source": [
    "4. What is the value of spam[-1]?\n",
    "Ans:=  'd' (Negative indexes count from the end)"
   ]
  },
  {
   "cell_type": "code",
   "execution_count": null,
   "id": "a12c044d",
   "metadata": {},
   "outputs": [],
   "source": [
    "5. What is the value of spam[:2]?\n",
    "Let's pretend bacon has the list [3.14, 'cat,' 11, 'cat,' True] for the next three questions.\n",
    "\n",
    "Ans:= ['a','b']"
   ]
  },
  {
   "cell_type": "code",
   "execution_count": null,
   "id": "f7bc4db3",
   "metadata": {},
   "outputs": [],
   "source": [
    "6. What is the value of bacon.index('cat')?\n",
    "Ans: = 1"
   ]
  },
  {
   "cell_type": "code",
   "execution_count": null,
   "id": "109e9ec0",
   "metadata": {},
   "outputs": [],
   "source": [
    "7. How does bacon.append(99) change the look of the list value in bacon?\n",
    "Ans:= [3.14,'cat',11,'cat',True,99]"
   ]
  },
  {
   "cell_type": "code",
   "execution_count": null,
   "id": "676eb0de",
   "metadata": {},
   "outputs": [],
   "source": [
    "8. How does bacon.remove('cat') change the look of the list in bacon?\n",
    "Ans: = bacon contains the list [3.14,'cat',11,]"
   ]
  },
  {
   "cell_type": "code",
   "execution_count": null,
   "id": "35b430fb",
   "metadata": {},
   "outputs": [],
   "source": [
    "9. What are the list concatenation and list replication operators?\n",
    "Ans:= + is the list concatenation operator , while the operator for replication is *."
   ]
  },
  {
   "cell_type": "code",
   "execution_count": null,
   "id": "4f6a7af9",
   "metadata": {},
   "outputs": [],
   "source": [
    "10. What is difference between the list methods append() and insert()?\n",
    "Ans := While append() will add values only to the end of al list, and insert() can add them anywhere in the list."
   ]
  },
  {
   "cell_type": "code",
   "execution_count": null,
   "id": "a12af5e3",
   "metadata": {},
   "outputs": [],
   "source": [
    "11. What are the two methods for removing items from a list?\n",
    "Ans:= the del statement and the remove() list method are two ways to remove values from a list."
   ]
  },
  {
   "cell_type": "code",
   "execution_count": null,
   "id": "fdf9a666",
   "metadata": {},
   "outputs": [],
   "source": [
    "12. Describe how list values and string values are identical.\n",
    "Ans:= list and string can be passed to len(), have indexes and slices, be used in for loops, be concatenated of replicated, and be used with the in and not in operators."
   ]
  },
  {
   "cell_type": "code",
   "execution_count": null,
   "id": "6aba38fe",
   "metadata": {},
   "outputs": [],
   "source": [
    "13. What's the difference between tuples and lists?\n",
    "Ans:= lists are mutable; they can have value added, remove or changed. Tuple are immutable; they cannot be changed at all. also, tuples are written using parentheses, (and), while lists use the square brackets,[and]"
   ]
  },
  {
   "cell_type": "code",
   "execution_count": null,
   "id": "3779a170",
   "metadata": {},
   "outputs": [],
   "source": [
    "14. How do you type a tuple value that only contains the integer 42?\n",
    "Ans:= (4,2) (The trailing comma is mandatory)"
   ]
  },
  {
   "cell_type": "code",
   "execution_count": null,
   "id": "a3d05ddc",
   "metadata": {},
   "outputs": [],
   "source": [
    "15. How do you get a list value's tuple form? How do you get a tuple value's list form?\n",
    "Ans:= The tuple() and list() functions, respectively"
   ]
  },
  {
   "cell_type": "code",
   "execution_count": null,
   "id": "4c7de682",
   "metadata": {},
   "outputs": [],
   "source": [
    "16. Variables that \"contain\" list values are not necessarily lists themselves. Instead, what do they contain?\n",
    "Ans:= They contain reference to list values."
   ]
  },
  {
   "cell_type": "code",
   "execution_count": null,
   "id": "bbfee9ff",
   "metadata": {},
   "outputs": [],
   "source": [
    "17. How do you distinguish between copy.copy() and copy.deepcopy()?\n",
    "Ans:= The copy.copy() function will do a shallow copy of a list, while th copy.deepcopy() function will do a deep copy of a list. That is, only copy.deepcopy() will duplicate any list inside the list."
   ]
  }
 ],
 "metadata": {
  "kernelspec": {
   "display_name": "Python 3 (ipykernel)",
   "language": "python",
   "name": "python3"
  },
  "language_info": {
   "codemirror_mode": {
    "name": "ipython",
    "version": 3
   },
   "file_extension": ".py",
   "mimetype": "text/x-python",
   "name": "python",
   "nbconvert_exporter": "python",
   "pygments_lexer": "ipython3",
   "version": "3.9.13"
  }
 },
 "nbformat": 4,
 "nbformat_minor": 5
}
